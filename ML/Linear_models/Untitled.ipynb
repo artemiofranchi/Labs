{
 "cells": [
  {
   "cell_type": "code",
   "execution_count": 4,
   "id": "14589917",
   "metadata": {},
   "outputs": [],
   "source": [
    "import pandas as pd\n",
    "import numpy as np"
   ]
  },
  {
   "cell_type": "code",
   "execution_count": 60,
   "id": "c6ca1447",
   "metadata": {},
   "outputs": [
    {
     "name": "stdout",
     "output_type": "stream",
     "text": [
      "[0.0 1.0 'a' 'b' 'c']\n",
      "shape 6\n",
      "This is a cut:  Index([0.0, 1.0], dtype='object')\n"
     ]
    },
    {
     "ename": "AttributeError",
     "evalue": "'numpy.ndarray' object has no attribute 'append'",
     "output_type": "error",
     "traceback": [
      "\u001b[0;31m---------------------------------------------------------------------------\u001b[0m",
      "\u001b[0;31mAttributeError\u001b[0m                            Traceback (most recent call last)",
      "\u001b[0;32m/tmp/ipykernel_63539/3003745492.py\u001b[0m in \u001b[0;36m<module>\u001b[0;34m\u001b[0m\n\u001b[1;32m     21\u001b[0m         \u001b[0;32mfor\u001b[0m \u001b[0melem\u001b[0m \u001b[0;32min\u001b[0m \u001b[0mdf_test\u001b[0m\u001b[0;34m.\u001b[0m\u001b[0miloc\u001b[0m\u001b[0;34m[\u001b[0m\u001b[0mi\u001b[0m\u001b[0;34m]\u001b[0m\u001b[0;34m:\u001b[0m\u001b[0;34m\u001b[0m\u001b[0;34m\u001b[0m\u001b[0m\n\u001b[1;32m     22\u001b[0m             \u001b[0;32mif\u001b[0m \u001b[0melem\u001b[0m \u001b[0;32min\u001b[0m \u001b[0mnsp\u001b[0m\u001b[0;34m:\u001b[0m\u001b[0;34m\u001b[0m\u001b[0;34m\u001b[0m\u001b[0m\n\u001b[0;32m---> 23\u001b[0;31m                 \u001b[0mspis\u001b[0m\u001b[0;34m.\u001b[0m\u001b[0mappend\u001b[0m\u001b[0;34m(\u001b[0m\u001b[0;36m1\u001b[0m\u001b[0;34m)\u001b[0m\u001b[0;34m\u001b[0m\u001b[0;34m\u001b[0m\u001b[0m\n\u001b[0m\u001b[1;32m     24\u001b[0m             \u001b[0;32melse\u001b[0m\u001b[0;34m:\u001b[0m\u001b[0;34m\u001b[0m\u001b[0;34m\u001b[0m\u001b[0m\n\u001b[1;32m     25\u001b[0m                 \u001b[0mspis\u001b[0m\u001b[0;34m.\u001b[0m\u001b[0mappend\u001b[0m\u001b[0;34m(\u001b[0m\u001b[0;36m0\u001b[0m\u001b[0;34m)\u001b[0m\u001b[0;34m\u001b[0m\u001b[0;34m\u001b[0m\u001b[0m\n",
      "\u001b[0;31mAttributeError\u001b[0m: 'numpy.ndarray' object has no attribute 'append'"
     ]
    }
   ],
   "source": [
    "data = {'col_1': [0, 1, 0, 1, 0, 1], 'col_2': ['a', 'b', 'c', 'c', 'b', 'a']}\n",
    "df_test = pd.DataFrame.from_dict(data)\n",
    "cols = df_test.columns\n",
    "sp = np.empty((0))\n",
    "m = np.empty((0))\n",
    "for col in cols:\n",
    "    sp = np.append(sp, df_test[col].unique())\n",
    "print(sp)\n",
    "newdf_test = pd.DataFrame(columns = sp)\n",
    "newcols = newdf_test.columns\n",
    "print('shape', df_test.shape[0])\n",
    "for col in df_test:\n",
    "    i = 0\n",
    "    while i < len(newcols):\n",
    "        b = df_test[col].nunique()\n",
    "        nsp = newcols[i:(i+b)]\n",
    "        print(\"This is a cut: \", nsp)\n",
    "        i+=b\n",
    "        spis = np.zeros(len(newcols))\n",
    "        j = 0\n",
    "        for elem in df_test.iloc[i]:\n",
    "            if elem in nsp:\n",
    "                spis.append(1)\n",
    "            else:\n",
    "                spis.append(0)\n",
    "    \n",
    "print(newdf_test)\n"
   ]
  },
  {
   "cell_type": "code",
   "execution_count": null,
   "id": "27444e19",
   "metadata": {},
   "outputs": [],
   "source": [
    "def func(X):\n",
    "    un = X.unique()\n",
    "    df = pd.Dataframe()"
   ]
  },
  {
   "cell_type": "code",
   "execution_count": null,
   "id": "4cb6ed0b",
   "metadata": {},
   "outputs": [],
   "source": []
  }
 ],
 "metadata": {
  "kernelspec": {
   "display_name": "Python 3 (ipykernel)",
   "language": "python",
   "name": "python3"
  },
  "language_info": {
   "codemirror_mode": {
    "name": "ipython",
    "version": 3
   },
   "file_extension": ".py",
   "mimetype": "text/x-python",
   "name": "python",
   "nbconvert_exporter": "python",
   "pygments_lexer": "ipython3",
   "version": "3.9.7"
  }
 },
 "nbformat": 4,
 "nbformat_minor": 5
}
